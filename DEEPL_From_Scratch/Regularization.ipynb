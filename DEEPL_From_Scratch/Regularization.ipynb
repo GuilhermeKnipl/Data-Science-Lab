{
 "cells": [
  {
   "cell_type": "code",
   "execution_count": 1,
   "id": "1dfc1e38",
   "metadata": {},
   "outputs": [],
   "source": [
    "import pandas as pd\n",
    "import numpy as np\n",
    "import sys\n",
    "import glob\n",
    "import os\n",
    "from sklearn.metrics import mean_squared_error\n",
    "sys.path.append(os.path.abspath(os.path.join(os.getcwd(), '..')))\n",
    "from Math_From_Scratch import regression ,error_metrics, activation"
   ]
  },
  {
   "cell_type": "code",
   "execution_count": 2,
   "id": "0c589a18",
   "metadata": {},
   "outputs": [],
   "source": [
    "datasets_path = glob.glob(r'..\\data\\*.csv')\n",
    "\n",
    "csv_files = {\n",
    "    path.split(\"\\\\\")[-1][:-4]: path\n",
    "    for path in datasets_path\n",
    "}\n",
    "\n",
    "WINDOW_SIZE = 5\n",
    "\n",
    "df = pd.read_csv(csv_files['dehliclimate'])\n",
    "df['date'] = pd.to_datetime(df['date'])\n",
    "\n",
    "features = df.drop(columns=['meantemp','date']).columns\n",
    "all_metrics = df.drop(columns=['date']).columns\n",
    "\n",
    "df['month'] = df['date'].dt.month\n",
    "df['weekday'] = df['date'].dt.day_of_week\n",
    "df['year'] = df['date'].dt.year\n",
    "\n",
    "\n",
    "target = [\"meantemp\"]\n",
    "\n",
    "X = df[features]\n",
    "y = df[target]\n",
    "\n",
    "val_size = 150\n",
    "\n",
    "X_val = X[-val_size:]\n",
    "y_val = y[-val_size:]\n",
    "X_train = X[:-val_size]\n",
    "y_train = y[:-val_size]\n",
    "y_pred, intercept , coef = regression.multiple_regression(X_train,y_train, return_params=True) "
   ]
  },
  {
   "cell_type": "code",
   "execution_count": 3,
   "id": "91ad9f1b",
   "metadata": {},
   "outputs": [],
   "source": [
    "def L1_Lasso(weights: np.array) -> float:\n",
    "    \"\"\"L1 Norm (Manhattan Norm)\"\"\"\n",
    "    l1 = np.sum(np.abs(weights))\n",
    "    return l1\n",
    "\n",
    "def L2_Ridge(weights: np.array, alpha: float = 1)-> float:\n",
    "    \"\"\"L2 Norm (Euclidean Norm)\"\"\"\n",
    "    l2 = alpha * np.sqrt(np.sum(np.power(np.abs(weights),2)))\n",
    "    return l2\n",
    "\n",
    "def L2_Ridge_Squared(weights: np.array, alpha: float = 1)-> float:\n",
    "    \"\"\"Squared L2 Norm for Ridge Regularization, Used for weights Optmization\"\"\"\n",
    "    l2_squared = alpha/2 * np.sum(np.power(weights, 2))\n",
    "    return l2_squared\n",
    "\n",
    "\n",
    "def Lmax(weights: np.array)-> float:\n",
    "    \"\"\"L∞ Norm (Max Norm) - Maximum absolute value\"\"\"\n",
    "    lmax = np.max(np.abs(weights)) \n",
    "    return lmax"
   ]
  },
  {
   "cell_type": "code",
   "execution_count": 4,
   "id": "9862c6ef",
   "metadata": {},
   "outputs": [
    {
     "data": {
      "text/plain": [
       "(1.3545695696824356, 2.257615949470726)"
      ]
     },
     "execution_count": 4,
     "metadata": {},
     "output_type": "execute_result"
    }
   ],
   "source": [
    "WEIGHTS_SIZE = 5\n",
    "SEED = 10\n",
    "np.random.seed(SEED)\n",
    "\n",
    "weights  = np.array([np.random.rand() for x in range(WEIGHTS_SIZE)])\n",
    "\n",
    "L2_Ridge_Squared(weights, alpha=1.5), L2_Ridge_Squared(weights, alpha=2.5)"
   ]
  },
  {
   "cell_type": "markdown",
   "id": "e078a110",
   "metadata": {},
   "source": [
    "\n",
    "\n",
    "\n",
    "\n",
    "\n",
    "\n",
    "\n",
    "#### L2 Regularization:\n",
    "\n",
    "Loss\n",
    "$\n",
    "\\text{Regularized Loss} = \\text{Loss(MSE)} + \\lambda \\|w\\|_2^2 = \\text{Loss(MSE)} + \\lambda w^T w\n",
    "$\n",
    "</br>\n",
    "Where: $\\|w\\|_2^2 = \\sum_i w_i^2$\n",
    "\n",
    "Penalty(Loss Regularized):$\\alpha \\sum w_i^2$ </br>\n",
    "Gradient(Weight Update): $\\alpha \\cdot w_i \\quad$\n",
    "\n",
    "#### L1 Regularization:\n",
    "\n",
    "Penalty:\n",
    "$\n",
    "\\alpha \\sum |w_i|\n",
    "$\n",
    "</br>\n",
    "Gradient (subgradient):\n",
    "$\n",
    "\\frac{\\partial}{\\partial w_i} (\\alpha |w_i|) =\n",
    "\\begin{cases}\n",
    "\\alpha & \\text{if } w_i > 0 \\\\\n",
    "-\\alpha & \\text{if } w_i < 0 \\\\\n",
    "\\text{undefined (or 0)} & \\text{if } w_i = 0\n",
    "\\end{cases}\n",
    "$\n"
   ]
  },
  {
   "cell_type": "code",
   "execution_count": null,
   "id": "4b1e8d87",
   "metadata": {},
   "outputs": [],
   "source": []
  },
  {
   "cell_type": "code",
   "execution_count": null,
   "id": "21c61377",
   "metadata": {},
   "outputs": [
    {
     "data": {
      "text/plain": [
       "35.562166152922764"
      ]
     },
     "execution_count": 7,
     "metadata": {},
     "output_type": "execute_result"
    }
   ],
   "source": [
    "mean_squared_error(y_train, y_pred) + "
   ]
  },
  {
   "cell_type": "code",
   "execution_count": 33,
   "id": "0d229362",
   "metadata": {},
   "outputs": [
    {
     "data": {
      "text/plain": [
       "(0.771320643266746, 1.3439095057244668, 2.6730317223936253)"
      ]
     },
     "execution_count": 33,
     "metadata": {},
     "output_type": "execute_result"
    }
   ],
   "source": [
    "Lmax(weights), L2_Ridge(weights), L1_Lasso(weights)"
   ]
  }
 ],
 "metadata": {
  "kernelspec": {
   "display_name": "base",
   "language": "python",
   "name": "python3"
  },
  "language_info": {
   "codemirror_mode": {
    "name": "ipython",
    "version": 3
   },
   "file_extension": ".py",
   "mimetype": "text/x-python",
   "name": "python",
   "nbconvert_exporter": "python",
   "pygments_lexer": "ipython3",
   "version": "3.12.7"
  }
 },
 "nbformat": 4,
 "nbformat_minor": 5
}
