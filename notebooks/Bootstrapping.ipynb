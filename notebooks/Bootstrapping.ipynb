{
 "cells": [
  {
   "cell_type": "code",
   "execution_count": 8,
   "id": "a8b04e2f",
   "metadata": {},
   "outputs": [],
   "source": [
    "import pandas as pd\n",
    "import random\n",
    "import numpy as np"
   ]
  },
  {
   "cell_type": "code",
   "execution_count": 3,
   "id": "fe7dcd30",
   "metadata": {},
   "outputs": [],
   "source": [
    "df = pd.read_csv(\"housing-data.csv\")\n"
   ]
  },
  {
   "cell_type": "code",
   "execution_count": 4,
   "id": "547979e2",
   "metadata": {},
   "outputs": [
    {
     "name": "stdout",
     "output_type": "stream",
     "text": [
      "Mean of dataset:  119.45\n",
      "Standard Deviation of dataset:  38.81\n"
     ]
    }
   ],
   "source": [
    "print(\"Mean of dataset: \" ,np.round(df['HOUSTNSA'].mean(),2))\n",
    "print(\"Standard Deviation of dataset: \" ,np.round(df['HOUSTNSA'].std(),2))"
   ]
  },
  {
   "cell_type": "code",
   "execution_count": null,
   "id": "d5218235",
   "metadata": {},
   "outputs": [
    {
     "data": {
      "text/plain": [
       "714"
      ]
     },
     "execution_count": 10,
     "metadata": {},
     "output_type": "execute_result"
    }
   ],
   "source": [
    "a = df['HOUSTNSA']"
   ]
  },
  {
   "cell_type": "code",
   "execution_count": 36,
   "id": "d9c33120",
   "metadata": {},
   "outputs": [],
   "source": [
    "def create_resamples(x: pd.Series, n_resamples: int, sizeofsample:int ):\n",
    "    resamples = np.array()\n",
    "    x_len = len(x)\n",
    "       \n",
    "    print(x_len, n_resamples)\n",
    "    "
   ]
  },
  {
   "cell_type": "code",
   "execution_count": null,
   "id": "ff8baba2",
   "metadata": {},
   "outputs": [
    {
     "name": "stdout",
     "output_type": "stream",
     "text": [
      "714 2\n"
     ]
    }
   ],
   "source": [
    "create_resamples(df['HOUSTNSA'], 2,)"
   ]
  },
  {
   "cell_type": "code",
   "execution_count": null,
   "id": "c699f708",
   "metadata": {},
   "outputs": [
    {
     "data": {
      "text/plain": [
       "[1, 2, 1]"
      ]
     },
     "execution_count": 35,
     "metadata": {},
     "output_type": "execute_result"
    }
   ],
   "source": [
    "resamples =[[1,2],[2,3]]\n",
    "resamples[0].append(1)\n",
    "#random.randint(0, 714)"
   ]
  },
  {
   "cell_type": "code",
   "execution_count": null,
   "id": "f24482e2",
   "metadata": {},
   "outputs": [],
   "source": []
  }
 ],
 "metadata": {
  "kernelspec": {
   "display_name": "base",
   "language": "python",
   "name": "python3"
  },
  "language_info": {
   "codemirror_mode": {
    "name": "ipython",
    "version": 3
   },
   "file_extension": ".py",
   "mimetype": "text/x-python",
   "name": "python",
   "nbconvert_exporter": "python",
   "pygments_lexer": "ipython3",
   "version": "3.12.7"
  }
 },
 "nbformat": 4,
 "nbformat_minor": 5
}
