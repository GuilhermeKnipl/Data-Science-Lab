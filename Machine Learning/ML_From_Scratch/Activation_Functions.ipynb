{
 "cells": [
  {
   "cell_type": "code",
   "execution_count": 1,
   "id": "df1609b0",
   "metadata": {},
   "outputs": [],
   "source": [
    "import numpy as np\n",
    "import pandas as pd \n",
    "import glob \n",
    "import seaborn as sns\n",
    "import matplotlib.pyplot as plt\n",
    "import sys\n",
    "import os\n",
    "\n",
    "\n",
    "sys.path.append(os.path.abspath(os.path.join(os.getcwd(), '..')))\n",
    "\n",
    "from Math_From_Scratch import regression, econometrics"
   ]
  },
  {
   "cell_type": "code",
   "execution_count": 5,
   "id": "4660834b",
   "metadata": {},
   "outputs": [],
   "source": [
    "datasets_path = glob.glob(r'..\\data\\*.csv')\n",
    "\n",
    "csv_files = {\n",
    "    path.split(\"\\\\\")[-1][:-4]: path\n",
    "    for path in datasets_path\n",
    "}\n",
    "\n",
    "WINDOW_SIZE = 5\n",
    "\n",
    "df = pd.read_csv(csv_files['dehliclimate'])\n",
    "df['date'] = pd.to_datetime(df['date'])\n",
    "\n",
    "features = df.drop(columns=['meantemp','date']).columns\n",
    "all_metrics = df.drop(columns=['date']).columns\n",
    "\n",
    "df['month'] = df['date'].dt.month\n",
    "df['weekday'] = df['date'].dt.day_of_week\n",
    "df['year'] = df['date'].dt.year\n",
    "\n",
    "\n",
    "target = [\"meantemp\"]"
   ]
  },
  {
   "cell_type": "markdown",
   "id": "000a413f",
   "metadata": {},
   "source": [
    "### ReLU\n",
    "Used for returning only positives values between $0, x$ <br>\n",
    "$f(x)$= $max(0,x)$"
   ]
  },
  {
   "cell_type": "code",
   "execution_count": 10,
   "id": "fb1df2a9",
   "metadata": {},
   "outputs": [],
   "source": [
    "def relu(y: pd.Series) -> pd.Series:\n",
    "    return y.clip(lower=0)"
   ]
  },
  {
   "cell_type": "code",
   "execution_count": 15,
   "id": "bc6fe1f4",
   "metadata": {},
   "outputs": [
    {
     "data": {
      "text/html": [
       "<div>\n",
       "<style scoped>\n",
       "    .dataframe tbody tr th:only-of-type {\n",
       "        vertical-align: middle;\n",
       "    }\n",
       "\n",
       "    .dataframe tbody tr th {\n",
       "        vertical-align: top;\n",
       "    }\n",
       "\n",
       "    .dataframe thead th {\n",
       "        text-align: right;\n",
       "    }\n",
       "</style>\n",
       "<table border=\"1\" class=\"dataframe\">\n",
       "  <thead>\n",
       "    <tr style=\"text-align: right;\">\n",
       "      <th></th>\n",
       "      <th>meantemp</th>\n",
       "    </tr>\n",
       "  </thead>\n",
       "  <tbody>\n",
       "    <tr>\n",
       "      <th>1457</th>\n",
       "      <td>7.217391</td>\n",
       "    </tr>\n",
       "    <tr>\n",
       "      <th>1458</th>\n",
       "      <td>5.238095</td>\n",
       "    </tr>\n",
       "    <tr>\n",
       "      <th>1459</th>\n",
       "      <td>4.095238</td>\n",
       "    </tr>\n",
       "    <tr>\n",
       "      <th>1460</th>\n",
       "      <td>5.052632</td>\n",
       "    </tr>\n",
       "    <tr>\n",
       "      <th>1461</th>\n",
       "      <td>0.000000</td>\n",
       "    </tr>\n",
       "  </tbody>\n",
       "</table>\n",
       "</div>"
      ],
      "text/plain": [
       "      meantemp\n",
       "1457  7.217391\n",
       "1458  5.238095\n",
       "1459  4.095238\n",
       "1460  5.052632\n",
       "1461  0.000000"
      ]
     },
     "execution_count": 15,
     "metadata": {},
     "output_type": "execute_result"
    }
   ],
   "source": [
    "test = df[target] - 10\n",
    "relu(test).tail()"
   ]
  },
  {
   "cell_type": "markdown",
   "id": "121e143d",
   "metadata": {},
   "source": [
    "### Leaky ReLU\n",
    "Used for returning only positives values between $0, x$ <br>\n",
    "$f(x)$= if $x > 0$ then $max(0,x)$"
   ]
  },
  {
   "cell_type": "code",
   "execution_count": 19,
   "id": "3466bf8e",
   "metadata": {},
   "outputs": [
    {
     "data": {
      "text/html": [
       "<div>\n",
       "<style scoped>\n",
       "    .dataframe tbody tr th:only-of-type {\n",
       "        vertical-align: middle;\n",
       "    }\n",
       "\n",
       "    .dataframe tbody tr th {\n",
       "        vertical-align: top;\n",
       "    }\n",
       "\n",
       "    .dataframe thead th {\n",
       "        text-align: right;\n",
       "    }\n",
       "</style>\n",
       "<table border=\"1\" class=\"dataframe\">\n",
       "  <thead>\n",
       "    <tr style=\"text-align: right;\">\n",
       "      <th></th>\n",
       "      <th>meantemp</th>\n",
       "    </tr>\n",
       "  </thead>\n",
       "  <tbody>\n",
       "    <tr>\n",
       "      <th>1457</th>\n",
       "      <td>7.217391</td>\n",
       "    </tr>\n",
       "    <tr>\n",
       "      <th>1458</th>\n",
       "      <td>5.238095</td>\n",
       "    </tr>\n",
       "    <tr>\n",
       "      <th>1459</th>\n",
       "      <td>4.095238</td>\n",
       "    </tr>\n",
       "    <tr>\n",
       "      <th>1460</th>\n",
       "      <td>5.052632</td>\n",
       "    </tr>\n",
       "    <tr>\n",
       "      <th>1461</th>\n",
       "      <td>0.000000</td>\n",
       "    </tr>\n",
       "  </tbody>\n",
       "</table>\n",
       "</div>"
      ],
      "text/plain": [
       "      meantemp\n",
       "1457  7.217391\n",
       "1458  5.238095\n",
       "1459  4.095238\n",
       "1460  5.052632\n",
       "1461  0.000000"
      ]
     },
     "execution_count": 19,
     "metadata": {},
     "output_type": "execute_result"
    }
   ],
   "source": [
    "def leaky_relu(y: pd.Series, alpha: float = 0.01) -> pd.Series:\n",
    "    return y.where(y > 0, alpha * y)\n",
    "\n",
    "leaky_relu(test).tail()"
   ]
  }
 ],
 "metadata": {
  "kernelspec": {
   "display_name": "base",
   "language": "python",
   "name": "python3"
  },
  "language_info": {
   "codemirror_mode": {
    "name": "ipython",
    "version": 3
   },
   "file_extension": ".py",
   "mimetype": "text/x-python",
   "name": "python",
   "nbconvert_exporter": "python",
   "pygments_lexer": "ipython3",
   "version": "3.12.7"
  }
 },
 "nbformat": 4,
 "nbformat_minor": 5
}
